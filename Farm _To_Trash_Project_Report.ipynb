{
 "cells": [
  {
   "cell_type": "markdown",
   "metadata": {
    "id": "_sNIOF2bZpm2"
   },
   "source": [
    "# DTSC 5301 Project Coding\n",
    "## **FOOD WASTE MANAGEMENT**\n",
    "---\n",
    "\n",
    "---\n",
    "Authors/Members\n",
    "\n",
    "*   anujanil.hundia@colorado.edu        - Anuj Hundia\n",
    "*   pranit.katwe@colorado.edu           - Pranit Katwe\n",
    "*   sarthak.katyal@colorado.edu         - Sarthak Katyal\n",
    "*   shrutisunil.wakchoure@colorado.edu  - Shruti Wakchoure\n",
    "*   siddhant.sharma@colorado.edu        - Siddhant Sharma\n",
    "*   junsoo.jung@colorado.edu            - Junsoo Jung\n",
    "\n",
    "---\n",
    "\n",
    "\n",
    "\n"
   ]
  },
  {
   "cell_type": "markdown",
   "metadata": {
    "id": "LyRxqSJ-mGj2"
   },
   "source": [
    "## Introduction\n",
    "\n",
    "In today's rapidly evolving world, we are witnessing an unprecedented rate of population growth and an ever-accelerating development of the food chain. With such advancements, the challenges posed by food loss and waste (FLW) have come to the forefront of global concerns. In May 2015, during Turkey's presidency of the G20, the world's agriculture ministers united in recognizing FLW as \"a global problem of enormous economic, environmental, and societal significance.\" They called upon all G20 member nations to intensify their collective efforts to prevent and reduce FLW.\n",
    "\n",
    "Despite the collective efforts to combat food loss and waste (FLW), it remains a persistent issue that hampers our sustainability goals and exacerbates the global food security crisis. The consequences of FLW extend beyond economic losses, with far-reaching environmental and social implications. We are in a race against time to minimize the detrimental effects of FLW on our planet, economies, and the well-being of present and future generations.\n",
    "\n",
    "The Food and Agriculture Organization of the United Nations (FAO) stands at the forefront of global organizations committed to tackling this pressing issue. The FAO has set an ambitious yet vital goal: \"to halve the per capita global food waste at the retail and consumer level by 2030, and reduce food losses along production and supply chains, including post-harvest losses.\" This commitment reflects a collective determination to turn the tide on FLW and aligns with the broader global sustainability agenda.\n",
    "\n",
    "The FAO's consistent commitment to battling FLW serves as motivation for our group. As people who care strongly about the health of our planet and its inhabitants, we have taken on the job of determining and prioritizing the most important problems related to food waste. We understand that resolving these issues will help the FAO achieve its lofty objectives while also paving the road for a more just and sustainable food system for all. We examine the urgent problems that demand our immediate attention as well as the creative solutions that offer the promise of a more sustainable food future in the pages that follow as we delve into the multifaceted complexity of FLW."
   ]
  },
  {
   "cell_type": "markdown",
   "metadata": {
    "id": "qtgNn9A3mJyZ"
   },
   "source": [
    "\n",
    "### Goal of this project\n",
    "\n",
    " Our project entails rigorous data analysis that will not only uncover trends and patterns but also pinpoint the root causes of food waste across various sectors of the food supply chain. By conducting thorough analyses, we will discern which stages of the food supply chain are most susceptible to waste, whether it be during production, transportation, storage, or consumer handling. Our objective is to provide a clear roadmap that prioritizes the critical areas where interventions are needed most urgently.\n"
   ]
  },
  {
   "cell_type": "markdown",
   "metadata": {
    "id": "CVMP1Jb6hB8S"
   },
   "source": [
    "### Initial setup\n",
    "\n",
    "We will start using the following libraries for data analysis and visualization.\n",
    "Pandas for dataframe usage and data cleaning. Matplotlib and Seaborn for visualization.\n"
   ]
  },
  {
   "cell_type": "code",
   "execution_count": 1,
   "metadata": {
    "id": "xBVSCDn0bBjP"
   },
   "outputs": [],
   "source": [
    "import pandas as pd\n",
    "import matplotlib.pyplot as plt\n",
    "import seaborn as sns"
   ]
  },
  {
   "cell_type": "markdown",
   "metadata": {
    "id": "j0c0s-HHhnun"
   },
   "source": [
    "## Dataset\n",
    "\n",
    "We brought data from the Food and Agriculture Organization of the United Nations ranging from the year 2012 to 2022. This database includes data and information from publicly available databases, reports, and studies that measure food loss and waste across food products, stages of the value chain, and geographical areas. FAOUN has made this data available to anyone who wants to learn more about food waste and loss. Some of the important features of the dataset include the year in which the food was wasted, the country in the picture, the commodity, the stage at which the item was wasted, the quantity of loss, the percentage of loss, and the method of collection of data with references.\n",
    "\n",
    "\n",
    "Original link to the data : https://www.fao.org/platform-food-loss-waste/flw-data/en/"
   ]
  },
  {
   "cell_type": "code",
   "execution_count": 2,
   "metadata": {
    "colab": {
     "base_uri": "https://localhost:8080/",
     "height": 660
    },
    "id": "JkYaPoP6diLt",
    "outputId": "c124c660-ac49-48b7-f811-d893e6d355e5"
   },
   "outputs": [
    {
     "data": {
      "text/html": [
       "<div>\n",
       "<style scoped>\n",
       "    .dataframe tbody tr th:only-of-type {\n",
       "        vertical-align: middle;\n",
       "    }\n",
       "\n",
       "    .dataframe tbody tr th {\n",
       "        vertical-align: top;\n",
       "    }\n",
       "\n",
       "    .dataframe thead th {\n",
       "        text-align: right;\n",
       "    }\n",
       "</style>\n",
       "<table border=\"1\" class=\"dataframe\">\n",
       "  <thead>\n",
       "    <tr style=\"text-align: right;\">\n",
       "      <th></th>\n",
       "      <th>m49_code</th>\n",
       "      <th>country</th>\n",
       "      <th>region</th>\n",
       "      <th>cpc_code</th>\n",
       "      <th>commodity</th>\n",
       "      <th>year</th>\n",
       "      <th>loss_percentage</th>\n",
       "      <th>loss_percentage_original</th>\n",
       "      <th>loss_quantity</th>\n",
       "      <th>activity</th>\n",
       "      <th>food_supply_stage</th>\n",
       "      <th>treatment</th>\n",
       "      <th>cause_of_loss</th>\n",
       "      <th>sample_size</th>\n",
       "      <th>method_data_collection</th>\n",
       "      <th>reference</th>\n",
       "      <th>url</th>\n",
       "      <th>notes</th>\n",
       "    </tr>\n",
       "  </thead>\n",
       "  <tbody>\n",
       "    <tr>\n",
       "      <th>0</th>\n",
       "      <td>104</td>\n",
       "      <td>Myanmar</td>\n",
       "      <td>NaN</td>\n",
       "      <td>23161.02</td>\n",
       "      <td>Rice, milled</td>\n",
       "      <td>2015</td>\n",
       "      <td>1.78</td>\n",
       "      <td>1.78%</td>\n",
       "      <td>26.12kgs</td>\n",
       "      <td>Storage</td>\n",
       "      <td>Storage</td>\n",
       "      <td>30 days storage, with trapping</td>\n",
       "      <td>Rodents</td>\n",
       "      <td>NaN</td>\n",
       "      <td>Controlled Experiment</td>\n",
       "      <td>Dr Steven Belmain (2015), context post-harvest...</td>\n",
       "      <td>NaN</td>\n",
       "      <td>Reference has been generated automatically</td>\n",
       "    </tr>\n",
       "    <tr>\n",
       "      <th>1</th>\n",
       "      <td>104</td>\n",
       "      <td>Myanmar</td>\n",
       "      <td>NaN</td>\n",
       "      <td>23161.02</td>\n",
       "      <td>Rice, milled</td>\n",
       "      <td>2015</td>\n",
       "      <td>11.77</td>\n",
       "      <td>11.77%</td>\n",
       "      <td>88.18kgs</td>\n",
       "      <td>Storage</td>\n",
       "      <td>Storage</td>\n",
       "      <td>60 days storage, no trapping</td>\n",
       "      <td>Rodents</td>\n",
       "      <td>NaN</td>\n",
       "      <td>Controlled Experiment</td>\n",
       "      <td>Dr Steven Belmain (2015), context post-harvest...</td>\n",
       "      <td>NaN</td>\n",
       "      <td>Reference has been generated automatically</td>\n",
       "    </tr>\n",
       "    <tr>\n",
       "      <th>2</th>\n",
       "      <td>104</td>\n",
       "      <td>Myanmar</td>\n",
       "      <td>NaN</td>\n",
       "      <td>23161.02</td>\n",
       "      <td>Rice, milled</td>\n",
       "      <td>2015</td>\n",
       "      <td>5.88</td>\n",
       "      <td>5.88%</td>\n",
       "      <td>44.09kgs</td>\n",
       "      <td>Storage</td>\n",
       "      <td>Storage</td>\n",
       "      <td>30 days storage, no trapping</td>\n",
       "      <td>Rodents</td>\n",
       "      <td>NaN</td>\n",
       "      <td>Controlled Experiment</td>\n",
       "      <td>Dr Steven Belmain (2015), context post-harvest...</td>\n",
       "      <td>NaN</td>\n",
       "      <td>Reference has been generated automatically</td>\n",
       "    </tr>\n",
       "    <tr>\n",
       "      <th>3</th>\n",
       "      <td>104</td>\n",
       "      <td>Myanmar</td>\n",
       "      <td>NaN</td>\n",
       "      <td>23161.02</td>\n",
       "      <td>Rice, milled</td>\n",
       "      <td>2015</td>\n",
       "      <td>3.57</td>\n",
       "      <td>3.57%</td>\n",
       "      <td>52.24kgs</td>\n",
       "      <td>Storage</td>\n",
       "      <td>Storage</td>\n",
       "      <td>60 days storage, with trapping</td>\n",
       "      <td>Rodents</td>\n",
       "      <td>NaN</td>\n",
       "      <td>Controlled Experiment</td>\n",
       "      <td>Dr Steven Belmain (2015), context post-harvest...</td>\n",
       "      <td>NaN</td>\n",
       "      <td>Reference has been generated automatically</td>\n",
       "    </tr>\n",
       "    <tr>\n",
       "      <th>4</th>\n",
       "      <td>104</td>\n",
       "      <td>Myanmar</td>\n",
       "      <td>NaN</td>\n",
       "      <td>23161.02</td>\n",
       "      <td>Rice, milled</td>\n",
       "      <td>2015</td>\n",
       "      <td>17.65</td>\n",
       "      <td>17.65%</td>\n",
       "      <td>132.27kgs</td>\n",
       "      <td>Storage</td>\n",
       "      <td>Storage</td>\n",
       "      <td>90 days storage, no trapping</td>\n",
       "      <td>Rodents</td>\n",
       "      <td>NaN</td>\n",
       "      <td>Controlled Experiment</td>\n",
       "      <td>Dr Steven Belmain (2015), context post-harvest...</td>\n",
       "      <td>NaN</td>\n",
       "      <td>Reference has been generated automatically</td>\n",
       "    </tr>\n",
       "  </tbody>\n",
       "</table>\n",
       "</div>"
      ],
      "text/plain": [
       "   m49_code  country region  cpc_code     commodity  year  loss_percentage  \\\n",
       "0       104  Myanmar    NaN  23161.02  Rice, milled  2015             1.78   \n",
       "1       104  Myanmar    NaN  23161.02  Rice, milled  2015            11.77   \n",
       "2       104  Myanmar    NaN  23161.02  Rice, milled  2015             5.88   \n",
       "3       104  Myanmar    NaN  23161.02  Rice, milled  2015             3.57   \n",
       "4       104  Myanmar    NaN  23161.02  Rice, milled  2015            17.65   \n",
       "\n",
       "  loss_percentage_original loss_quantity activity food_supply_stage  \\\n",
       "0                    1.78%      26.12kgs  Storage           Storage   \n",
       "1                   11.77%      88.18kgs  Storage           Storage   \n",
       "2                    5.88%      44.09kgs  Storage           Storage   \n",
       "3                    3.57%      52.24kgs  Storage           Storage   \n",
       "4                   17.65%     132.27kgs  Storage           Storage   \n",
       "\n",
       "                        treatment cause_of_loss sample_size  \\\n",
       "0  30 days storage, with trapping       Rodents         NaN   \n",
       "1    60 days storage, no trapping       Rodents         NaN   \n",
       "2    30 days storage, no trapping       Rodents         NaN   \n",
       "3  60 days storage, with trapping       Rodents         NaN   \n",
       "4    90 days storage, no trapping       Rodents         NaN   \n",
       "\n",
       "  method_data_collection                                          reference  \\\n",
       "0  Controlled Experiment  Dr Steven Belmain (2015), context post-harvest...   \n",
       "1  Controlled Experiment  Dr Steven Belmain (2015), context post-harvest...   \n",
       "2  Controlled Experiment  Dr Steven Belmain (2015), context post-harvest...   \n",
       "3  Controlled Experiment  Dr Steven Belmain (2015), context post-harvest...   \n",
       "4  Controlled Experiment  Dr Steven Belmain (2015), context post-harvest...   \n",
       "\n",
       "   url                                        notes  \n",
       "0  NaN   Reference has been generated automatically  \n",
       "1  NaN   Reference has been generated automatically  \n",
       "2  NaN   Reference has been generated automatically  \n",
       "3  NaN   Reference has been generated automatically  \n",
       "4  NaN   Reference has been generated automatically  "
      ]
     },
     "execution_count": 2,
     "metadata": {},
     "output_type": "execute_result"
    }
   ],
   "source": [
    "#Reading CSV\n",
    "food_data = pd.read_csv('https://docs.google.com/spreadsheets/d/1h0k2vygma2sihMRTr8PlthgoFGHpZbNpMbAi7cUWlyI/export?format=csv')\n",
    "food_data.head()"
   ]
  },
  {
   "cell_type": "markdown",
   "metadata": {
    "id": "7DDjPhYehziv"
   },
   "source": [
    "### Data cleaning and sorting\n",
    "\n",
    "In our data analysis project, we concentrated on key and well-known aspects connected to food waste, and as part of our data pretreatment, we deleted unneeded columns to streamline and refine our dataset. Following this data cleansing process, we chose the 'loss_percentage' column as our key focus.\n"
   ]
  },
  {
   "cell_type": "markdown",
   "metadata": {
    "id": "BN1iTqx9q-KR"
   },
   "source": [
    "##### Cleaning Methods\n",
    "\n",
    "It is evident that data in columns like region, loss_quantity, and cause_of_loss are having null values more than the permissable levels ( Considered threshold level as 15% ). As the percentage of null values is very huge, it is better to remove those columns. Thats why we are removing these columns.\n",
    "*   Reason of removing 'm49_code' : this is country code, which is belongs to column 'country'.\n",
    "*   Reason of removing 'cpc_code' : this is country code, which is belongs to column 'commodity'.\n",
    "*   Reason of removing 'method_data_collection' : this is not related to our main column 'loss_percentage'."
   ]
  },
  {
   "cell_type": "code",
   "execution_count": 3,
   "metadata": {
    "colab": {
     "base_uri": "https://localhost:8080/",
     "height": 527
    },
    "id": "LhKpD6e5qkjt",
    "outputId": "b7dd025d-262d-4c46-b105-bbcc8f60cffb"
   },
   "outputs": [
    {
     "data": {
      "text/html": [
       "<div>\n",
       "<style scoped>\n",
       "    .dataframe tbody tr th:only-of-type {\n",
       "        vertical-align: middle;\n",
       "    }\n",
       "\n",
       "    .dataframe tbody tr th {\n",
       "        vertical-align: top;\n",
       "    }\n",
       "\n",
       "    .dataframe thead th {\n",
       "        text-align: right;\n",
       "    }\n",
       "</style>\n",
       "<table border=\"1\" class=\"dataframe\">\n",
       "  <thead>\n",
       "    <tr style=\"text-align: right;\">\n",
       "      <th></th>\n",
       "      <th>percent_missing</th>\n",
       "    </tr>\n",
       "  </thead>\n",
       "  <tbody>\n",
       "    <tr>\n",
       "      <th>m49_code</th>\n",
       "      <td>0.000000</td>\n",
       "    </tr>\n",
       "    <tr>\n",
       "      <th>country</th>\n",
       "      <td>0.000000</td>\n",
       "    </tr>\n",
       "    <tr>\n",
       "      <th>region</th>\n",
       "      <td>94.929863</td>\n",
       "    </tr>\n",
       "    <tr>\n",
       "      <th>cpc_code</th>\n",
       "      <td>0.000000</td>\n",
       "    </tr>\n",
       "    <tr>\n",
       "      <th>commodity</th>\n",
       "      <td>0.000000</td>\n",
       "    </tr>\n",
       "    <tr>\n",
       "      <th>year</th>\n",
       "      <td>0.000000</td>\n",
       "    </tr>\n",
       "    <tr>\n",
       "      <th>loss_percentage</th>\n",
       "      <td>0.000000</td>\n",
       "    </tr>\n",
       "    <tr>\n",
       "      <th>loss_percentage_original</th>\n",
       "      <td>0.000000</td>\n",
       "    </tr>\n",
       "    <tr>\n",
       "      <th>loss_quantity</th>\n",
       "      <td>97.760690</td>\n",
       "    </tr>\n",
       "    <tr>\n",
       "      <th>activity</th>\n",
       "      <td>10.520534</td>\n",
       "    </tr>\n",
       "    <tr>\n",
       "      <th>food_supply_stage</th>\n",
       "      <td>13.064053</td>\n",
       "    </tr>\n",
       "    <tr>\n",
       "      <th>treatment</th>\n",
       "      <td>93.662329</td>\n",
       "    </tr>\n",
       "    <tr>\n",
       "      <th>cause_of_loss</th>\n",
       "      <td>95.208721</td>\n",
       "    </tr>\n",
       "    <tr>\n",
       "      <th>sample_size</th>\n",
       "      <td>94.828460</td>\n",
       "    </tr>\n",
       "    <tr>\n",
       "      <th>method_data_collection</th>\n",
       "      <td>1.199932</td>\n",
       "    </tr>\n",
       "    <tr>\n",
       "      <th>reference</th>\n",
       "      <td>77.691398</td>\n",
       "    </tr>\n",
       "    <tr>\n",
       "      <th>url</th>\n",
       "      <td>16.680750</td>\n",
       "    </tr>\n",
       "    <tr>\n",
       "      <th>notes</th>\n",
       "      <td>84.848741</td>\n",
       "    </tr>\n",
       "  </tbody>\n",
       "</table>\n",
       "</div>"
      ],
      "text/plain": [
       "                          percent_missing\n",
       "m49_code                         0.000000\n",
       "country                          0.000000\n",
       "region                          94.929863\n",
       "cpc_code                         0.000000\n",
       "commodity                        0.000000\n",
       "year                             0.000000\n",
       "loss_percentage                  0.000000\n",
       "loss_percentage_original         0.000000\n",
       "loss_quantity                   97.760690\n",
       "activity                        10.520534\n",
       "food_supply_stage               13.064053\n",
       "treatment                       93.662329\n",
       "cause_of_loss                   95.208721\n",
       "sample_size                     94.828460\n",
       "method_data_collection           1.199932\n",
       "reference                       77.691398\n",
       "url                             16.680750\n",
       "notes                           84.848741"
      ]
     },
     "execution_count": 3,
     "metadata": {},
     "output_type": "execute_result"
    }
   ],
   "source": [
    "percent_missing = food_data.isnull().sum() * 100 / len(food_data)\n",
    "missing_value_df = pd.DataFrame({'percent_missing': percent_missing})\n",
    "missing_value_df"
   ]
  },
  {
   "cell_type": "code",
   "execution_count": 4,
   "metadata": {
    "colab": {
     "base_uri": "https://localhost:8080/",
     "height": 739
    },
    "id": "ZEtoo3fKed9e",
    "outputId": "834f90c9-d23c-4d9c-d41e-a7a8819a0946"
   },
   "outputs": [
    {
     "data": {
      "text/html": [
       "<div>\n",
       "<style scoped>\n",
       "    .dataframe tbody tr th:only-of-type {\n",
       "        vertical-align: middle;\n",
       "    }\n",
       "\n",
       "    .dataframe tbody tr th {\n",
       "        vertical-align: top;\n",
       "    }\n",
       "\n",
       "    .dataframe thead th {\n",
       "        text-align: right;\n",
       "    }\n",
       "</style>\n",
       "<table border=\"1\" class=\"dataframe\">\n",
       "  <thead>\n",
       "    <tr style=\"text-align: right;\">\n",
       "      <th></th>\n",
       "      <th>country</th>\n",
       "      <th>commodity</th>\n",
       "      <th>year</th>\n",
       "      <th>loss_percentage</th>\n",
       "      <th>loss_percentage_original</th>\n",
       "      <th>activity</th>\n",
       "      <th>food_supply_stage</th>\n",
       "      <th>cause_of_loss</th>\n",
       "    </tr>\n",
       "  </thead>\n",
       "  <tbody>\n",
       "    <tr>\n",
       "      <th>0</th>\n",
       "      <td>Myanmar</td>\n",
       "      <td>Rice, milled</td>\n",
       "      <td>2015</td>\n",
       "      <td>1.78000</td>\n",
       "      <td>1.78%</td>\n",
       "      <td>Storage</td>\n",
       "      <td>Storage</td>\n",
       "      <td>Rodents</td>\n",
       "    </tr>\n",
       "    <tr>\n",
       "      <th>1</th>\n",
       "      <td>Myanmar</td>\n",
       "      <td>Rice, milled</td>\n",
       "      <td>2015</td>\n",
       "      <td>11.77000</td>\n",
       "      <td>11.77%</td>\n",
       "      <td>Storage</td>\n",
       "      <td>Storage</td>\n",
       "      <td>Rodents</td>\n",
       "    </tr>\n",
       "    <tr>\n",
       "      <th>2</th>\n",
       "      <td>Myanmar</td>\n",
       "      <td>Rice, milled</td>\n",
       "      <td>2015</td>\n",
       "      <td>5.88000</td>\n",
       "      <td>5.88%</td>\n",
       "      <td>Storage</td>\n",
       "      <td>Storage</td>\n",
       "      <td>Rodents</td>\n",
       "    </tr>\n",
       "    <tr>\n",
       "      <th>3</th>\n",
       "      <td>Myanmar</td>\n",
       "      <td>Rice, milled</td>\n",
       "      <td>2015</td>\n",
       "      <td>3.57000</td>\n",
       "      <td>3.57%</td>\n",
       "      <td>Storage</td>\n",
       "      <td>Storage</td>\n",
       "      <td>Rodents</td>\n",
       "    </tr>\n",
       "    <tr>\n",
       "      <th>4</th>\n",
       "      <td>Myanmar</td>\n",
       "      <td>Rice, milled</td>\n",
       "      <td>2015</td>\n",
       "      <td>17.65000</td>\n",
       "      <td>17.65%</td>\n",
       "      <td>Storage</td>\n",
       "      <td>Storage</td>\n",
       "      <td>Rodents</td>\n",
       "    </tr>\n",
       "    <tr>\n",
       "      <th>...</th>\n",
       "      <td>...</td>\n",
       "      <td>...</td>\n",
       "      <td>...</td>\n",
       "      <td>...</td>\n",
       "      <td>...</td>\n",
       "      <td>...</td>\n",
       "      <td>...</td>\n",
       "      <td>...</td>\n",
       "    </tr>\n",
       "    <tr>\n",
       "      <th>11829</th>\n",
       "      <td>Zambia</td>\n",
       "      <td>Millet</td>\n",
       "      <td>2012</td>\n",
       "      <td>2.50000</td>\n",
       "      <td>2.5</td>\n",
       "      <td>Transportation</td>\n",
       "      <td>Farm</td>\n",
       "      <td>NaN</td>\n",
       "    </tr>\n",
       "    <tr>\n",
       "      <th>11830</th>\n",
       "      <td>Zambia</td>\n",
       "      <td>Millet</td>\n",
       "      <td>2012</td>\n",
       "      <td>2.61001</td>\n",
       "      <td>2.61001</td>\n",
       "      <td>Storage</td>\n",
       "      <td>Storage</td>\n",
       "      <td>NaN</td>\n",
       "    </tr>\n",
       "    <tr>\n",
       "      <th>11831</th>\n",
       "      <td>Zambia</td>\n",
       "      <td>Millet</td>\n",
       "      <td>2012</td>\n",
       "      <td>1.28543</td>\n",
       "      <td>1.28543</td>\n",
       "      <td>Storage</td>\n",
       "      <td>Farm</td>\n",
       "      <td>NaN</td>\n",
       "    </tr>\n",
       "    <tr>\n",
       "      <th>11832</th>\n",
       "      <td>Zambia</td>\n",
       "      <td>Millet</td>\n",
       "      <td>2012</td>\n",
       "      <td>3.48739</td>\n",
       "      <td>3.48739</td>\n",
       "      <td>Drying, Harvesting</td>\n",
       "      <td>Harvest</td>\n",
       "      <td>NaN</td>\n",
       "    </tr>\n",
       "    <tr>\n",
       "      <th>11833</th>\n",
       "      <td>Zambia</td>\n",
       "      <td>Millet</td>\n",
       "      <td>2012</td>\n",
       "      <td>2.50000</td>\n",
       "      <td>2.5</td>\n",
       "      <td>Winnowing</td>\n",
       "      <td>Farm</td>\n",
       "      <td>NaN</td>\n",
       "    </tr>\n",
       "  </tbody>\n",
       "</table>\n",
       "<p>11834 rows × 8 columns</p>\n",
       "</div>"
      ],
      "text/plain": [
       "       country     commodity  year  loss_percentage loss_percentage_original  \\\n",
       "0      Myanmar  Rice, milled  2015          1.78000                    1.78%   \n",
       "1      Myanmar  Rice, milled  2015         11.77000                   11.77%   \n",
       "2      Myanmar  Rice, milled  2015          5.88000                    5.88%   \n",
       "3      Myanmar  Rice, milled  2015          3.57000                    3.57%   \n",
       "4      Myanmar  Rice, milled  2015         17.65000                   17.65%   \n",
       "...        ...           ...   ...              ...                      ...   \n",
       "11829   Zambia        Millet  2012          2.50000                      2.5   \n",
       "11830   Zambia        Millet  2012          2.61001                  2.61001   \n",
       "11831   Zambia        Millet  2012          1.28543                  1.28543   \n",
       "11832   Zambia        Millet  2012          3.48739                  3.48739   \n",
       "11833   Zambia        Millet  2012          2.50000                      2.5   \n",
       "\n",
       "                 activity food_supply_stage cause_of_loss  \n",
       "0                 Storage           Storage       Rodents  \n",
       "1                 Storage           Storage       Rodents  \n",
       "2                 Storage           Storage       Rodents  \n",
       "3                 Storage           Storage       Rodents  \n",
       "4                 Storage           Storage       Rodents  \n",
       "...                   ...               ...           ...  \n",
       "11829      Transportation              Farm           NaN  \n",
       "11830             Storage           Storage           NaN  \n",
       "11831             Storage              Farm           NaN  \n",
       "11832  Drying, Harvesting           Harvest           NaN  \n",
       "11833           Winnowing              Farm           NaN  \n",
       "\n",
       "[11834 rows x 8 columns]"
      ]
     },
     "execution_count": 4,
     "metadata": {},
     "output_type": "execute_result"
    }
   ],
   "source": [
    "# Data Cleaning by removing lower priority columns.\n",
    "food_data.drop(['m49_code','region','cpc_code','treatment','loss_quantity','sample_size','method_data_collection','reference','url','notes'],inplace=True,axis=1)\n",
    "food_data"
   ]
  },
  {
   "cell_type": "markdown",
   "metadata": {
    "id": "620KDOUGZWu_"
   },
   "source": [
    "This is the cleaned data after removing the columns which were not important for our analysis and above are the important columns that we are going to use in our analysis and our visualization for better understanding."
   ]
  },
  {
   "cell_type": "markdown",
   "metadata": {
    "id": "jaY63CJJifWX"
   },
   "source": [
    "#### 1. Food waste caused by Stage\n",
    "\n",
    "A \"Food Waste Caused by Stage\" graph generated from the dataset provided can offer critical insights for effective food waste management. It helps identify which stages in the food supply chain contribute most to food waste, allowing for targeted interventions, resource allocation, policy development, supply chain optimization, consumer awareness campaigns, and the setting of reduction targets. By focusing efforts on the most significant contributors, stakeholders can reduce food waste, achieve cost savings, and minimize environmental impact, thus fostering a more sustainable and efficient food system.\n",
    "\n",
    "From the cleaned data, we start with comparing loss percentage and stage. Since there are multiple values of loss_percentage present in each of the stages, it is important to group them together and find the mean of each unique category.\n",
    "After getting a mean value, we wants to see what is the highest reason of the loss. So, we sorted by order of `loss_percentage`."
   ]
  },
  {
   "cell_type": "code",
   "execution_count": 5,
   "metadata": {
    "id": "BIve8U54lkd8"
   },
   "outputs": [],
   "source": [
    "stage_loss=food_data[['food_supply_stage','loss_percentage']]\n",
    "food_data['food_supply_stage'] = food_data['food_supply_stage'].astype(str)\n",
    "mean_stage_loss = stage_loss.groupby(stage_loss['food_supply_stage']).mean()\n",
    "sorted_stage = mean_stage_loss.sort_values(by='loss_percentage',ascending=False)"
   ]
  },
  {
   "cell_type": "markdown",
   "metadata": {
    "id": "6SvWLcxjkY_J"
   },
   "source": [
    "##### Visualization.\n",
    "\n",
    "To analyze effectivly, we visualize the sorted data. To check which stage has the highest loss percentage where food is getting wasted."
   ]
  },
  {
   "cell_type": "code",
   "execution_count": 6,
   "metadata": {
    "colab": {
     "base_uri": "https://localhost:8080/",
     "height": 607
    },
    "id": "7-UkK9iIoPed",
    "outputId": "af640e86-b970-4c44-ab77-7d40fd820c4c"
   },
   "outputs": [
    {
     "data": {
      "image/png": "[encoded data removed]",
      "text/plain": [
       "<Figure size 720x432 with 1 Axes>"
      ]
     },
     "metadata": {
      "needs_background": "light"
     },
     "output_type": "display_data"
    }
   ],
   "source": [
    "food_supply_stage = sorted_stage.index\n",
    "mean_loss_percentages = sorted_stage['loss_percentage']\n",
    "\n",
    "# Create a horizontal bar chart\n",
    "plt.figure(figsize=(10, 6))\n",
    "plt.barh(food_supply_stage, mean_loss_percentages, color='green')\n",
    "\n",
    "# Added labels to both axes and title\n",
    "plt.xlabel('Mean Loss Percentage')\n",
    "plt.ylabel('Food Supply Stage')\n",
    "plt.title('Mean Loss Percentage by Food Supply Stage')\n",
    "\n",
    "# To Add vertical grid lines\n",
    "plt.grid(axis='x', linestyle='--', alpha=0.7)\n",
    "\n",
    "#Adjust plot layout for better spacing\n",
    "plt.tight_layout()\n",
    "\n",
    "#Invert y-axis to get the highest value on top\n",
    "plt.gca().invert_yaxis()\n",
    "plt.show()"
   ]
  },
  {
   "cell_type": "markdown",
   "metadata": {
    "id": "umIMGa6Xjlnb"
   },
   "source": [
    "A horizontal bar chart is particularly useful for visualizing the \"Food Waste Caused by Stage\" graph in food waste analysis. It allows for easy comparison of mean loss percentages among different food supply stages, efficiently uses space, accommodates long labels, provides a natural ranking with the highest value at the top, enhances readability, is aesthetically pleasing, and emphasizes critical areas of high food waste. This choice aligns with the goal of swiftly identifying key contributors to food waste and effectively conveying this information to stakeholders and decision-makers.\n",
    "\n",
    "The chart provides information on the mean loss percentage at different stages of the food supply chain. The x-axis represents the mean loss percentage, ranging from 0 to 25, while the y-axis lists various stages of the food supply chain, including Transport, Stacking, Farm, Storage, Packing, Wholesale, Distribution, Food Traders, Market, Grading, Pre-harvesting, Households, Retail, Collector, Post-harvest, and Export. The bars in the chart are color-coded green and represent the mean loss percentage for each stage.\n",
    "\n",
    "The chart reveals that the highest mean loss percentage is observed at the Export stage, with a value of approximately 25%. On the other hand, the Transport stage has the lowest mean loss percentage at around 5%."
   ]
  },
  {
   "cell_type": "code",
   "execution_count": 7,
   "metadata": {
    "colab": {
     "base_uri": "https://localhost:8080/"
    },
    "id": "RzxA_FLfiEXI",
    "outputId": "ced29afa-6a53-438c-f480-8ab833a22d71"
   },
   "outputs": [
    {
     "name": "stdout",
     "output_type": "stream",
     "text": [
      "    food_supply_stage  loss_percentage_change\n",
      "0                Farm               -0.054798\n",
      "1             Harvest                2.472219\n",
      "2             Storage                1.448327\n",
      "3  Whole supply chain               -1.486667\n"
     ]
    }
   ],
   "source": [
    "import pandas as pd\n",
    "\n",
    "# Assuming your dataset is loaded into a DataFrame called 'food_data'\n",
    "# Make sure you have columns 'year', 'commodity', and 'loss_percentage'\n",
    "\n",
    "# Filter data for the years 2021 and 2022\n",
    "data_2021 = food_data[food_data['year'] == 2021]\n",
    "data_2022 = food_data[food_data['year'] == 2022]\n",
    "\n",
    "# Merge the data for 2021 and 2022 based on 'commodity' column\n",
    "merged_data = pd.merge(data_2021, data_2022, on='food_supply_stage', suffixes=('_2021', '_2022'))\n",
    "\n",
    "# Calculate the change in loss percentage\n",
    "merged_data['loss_percentage_change'] = merged_data['loss_percentage_2022'] - merged_data['loss_percentage_2021']\n",
    "\n",
    "# Select relevant columns\n",
    "result_df = merged_data.groupby('food_supply_stage')['loss_percentage_change'].mean().reset_index()\n",
    "\n",
    "\n",
    "# Display the result\n",
    "print(result_df)"
   ]
  },
  {
   "cell_type": "markdown",
   "metadata": {
    "id": "GYnQ3U3wiqAq"
   },
   "source": [
    "#### 2. Food waste caused by Year"
   ]
  },
  {
   "cell_type": "markdown",
   "metadata": {
    "id": "6AZUv9NCFre7"
   },
   "source": [
    "The \"Food Waste  by Year\" chart derived from the presented data set provides valuable information on effective food waste management.\n",
    "\n",
    " Time Analysis: The graph allows you to track trends in food waste  over different years and shows whether waste levels are increasing, decreasing or remaining stable. This temporal perspective is crucial for understanding the dynamics of food waste.\n",
    "\n",
    " Identification of patterns and anomalies. In certain years, it is possible to identify sudden spikes or drops in food waste that provide clues about unique events or contributing factors.\n",
    "\n",
    "Here we start with comparing loss percentage and year by taking two columns `year` and `loss_percentage`. Here we will take mean of each year of loss percentage to represent the mean loss percentage of each year. Now we will sort this value from highest to lowest using `loss_percentage` and by using `ascending=False`"
   ]
  },
  {
   "cell_type": "code",
   "execution_count": 8,
   "metadata": {
    "id": "dT23jD4LqI0Q"
   },
   "outputs": [],
   "source": [
    "year_loss=food_data[['year','loss_percentage']]\n",
    "mean_year_loss = year_loss.groupby(year_loss['year']).mean()\n",
    "sorted_year = mean_year_loss.sort_values(by='loss_percentage',ascending=False)\n"
   ]
  },
  {
   "cell_type": "markdown",
   "metadata": {
    "id": "meqJh0vGluwo"
   },
   "source": [
    "##### Visualization.\n",
    "\n",
    "Here we plot the the value of mean loss percentage of each year with sorted data. We can see that 2022 has the highest mean loss percentage.\n"
   ]
  },
  {
   "cell_type": "code",
   "execution_count": 9,
   "metadata": {
    "colab": {
     "base_uri": "https://localhost:8080/",
     "height": 564
    },
    "id": "gfvwHWc7qd8j",
    "outputId": "af9920c5-818b-4733-fb20-36964cd73e8b"
   },
   "outputs": [
    {
     "data": {
      "image/png": "[encoded data removed]",
      "text/plain": [
       "<Figure size 720x432 with 1 Axes>"
      ]
     },
     "metadata": {
      "needs_background": "light"
     },
     "output_type": "display_data"
    }
   ],
   "source": [
    "#visualization here\n",
    "years = sorted_year.index\n",
    "mean_loss_percentages = sorted_year['loss_percentage']\n",
    "\n",
    "years = mean_year_loss.index\n",
    "mean_loss_percentages = mean_year_loss['loss_percentage']\n",
    "\n",
    "# Create a line plot usking marker and linestyle\n",
    "plt.figure(figsize=(10, 6))\n",
    "plt.plot(years, mean_loss_percentages, marker='o', linestyle='-', color='black')\n",
    "\n",
    "# Add labels and title\n",
    "plt.xlabel('Year')\n",
    "plt.ylabel('Mean Loss Percentage')\n",
    "plt.title('Mean Loss Percentage Over the Years')\n",
    "\n",
    "# Show the plot\n",
    "# Add grid lines\n",
    "plt.grid(True)\n",
    "plt.show()"
   ]
  },
  {
   "cell_type": "markdown",
   "metadata": {
    "id": "gyJYfYWMODUz"
   },
   "source": [
    "A line plot is a useful visualization tool for representing the “Food Waste Caused by Stage” graph. Here's why it is particularly suitable for this purpose :  A line plot allows for the examination of mean loss percentages over time. By plotting the data points for each year and connecting them with lines, it becomes easier to identify trends and patterns in food waste across different stages of the food supply chain. Comparison of Mean Loss Percentages: The line plot enables a direct comparison of mean loss percentages between stages. By visualizing the data in this way, it becomes apparent which stages have higher or lower mean loss percentages, aiding in the identification of critical areas for intervention and improvement.\n",
    "\n",
    "Identification of Outliers: Outliers, such as significant spikes or drops in mean loss percentages, can be easily identified on a line plot. These outliers may indicate specific years or stages that require further investigation or targeted interventions\n",
    "\n",
    "There wasn't much changes from 2012 to 2021. But the graph suggest there were drastic changes which took place from 2021 to 2022. There was a massive increase of 5%."
   ]
  },
  {
   "cell_type": "markdown",
   "metadata": {
    "id": "WMsDkHrgitxK"
   },
   "source": [
    "#### 3. Food waste caused by Country"
   ]
  },
  {
   "cell_type": "markdown",
   "metadata": {
    "id": "AgZBf9GdGXsz"
   },
   "source": [
    "Here we start with comparing loss percentage by country by taking two columns `country` and `loss_percentage`."
   ]
  },
  {
   "cell_type": "code",
   "execution_count": 10,
   "metadata": {
    "id": "Sf_4Kh_Ei5hf"
   },
   "outputs": [],
   "source": [
    "country_loss=food_data[['country','loss_percentage']]\n",
    "mean_country_loss = country_loss.groupby(country_loss['country']).mean()\n",
    "sorted_country = mean_country_loss.sort_values(by='loss_percentage',ascending=False)"
   ]
  },
  {
   "cell_type": "markdown",
   "metadata": {
    "id": "Ydq4ld4UG44_"
   },
   "source": [
    "Here we will take mean of country to avoid duplicates. So we will get one value for each country for better visulization."
   ]
  },
  {
   "cell_type": "markdown",
   "metadata": {
    "id": "zeaLBHXeH7Pt"
   },
   "source": [
    "Now we will sort this value from highest to lowest using `loss_percentage` and by using `ascending=False`"
   ]
  },
  {
   "cell_type": "markdown",
   "metadata": {
    "id": "_sj6fhfUIKFR"
   },
   "source": [
    "Here we can see a table with 105 countries and their mean loss percentage. We cannot plot the table for 105 countries. So we will plot the top 20 countries."
   ]
  },
  {
   "cell_type": "markdown",
   "metadata": {
    "id": "vdlCzttLlyxS"
   },
   "source": [
    "##### Visualization"
   ]
  },
  {
   "cell_type": "code",
   "execution_count": 11,
   "metadata": {
    "colab": {
     "base_uri": "https://localhost:8080/",
     "height": 718
    },
    "id": "Dyo9QF9olDvn",
    "outputId": "4cf63a0e-7986-40cc-b93d-869152e0fe19"
   },
   "outputs": [
    {
     "data": {
      "image/png": "[encoded data removed]",
      "text/plain": [
       "<Figure size 864x576 with 1 Axes>"
      ]
     },
     "metadata": {
      "needs_background": "light"
     },
     "output_type": "display_data"
    }
   ],
   "source": [
    "#We want to see the top 20 countries so we will create a new dataframe for that\n",
    "top_20_countries = sorted_country.head(20)\n",
    "\n",
    "# Create a heatmap with values for the top 20 countries\n",
    "plt.figure(figsize=(12, 8))\n",
    "sns.heatmap(top_20_countries[['loss_percentage']], annot=True, cmap=\"coolwarm\", cbar=False)\n",
    "\n",
    "# Add labels and title\n",
    "plt.xlabel('Loss Percentage')\n",
    "plt.ylabel('Country')\n",
    "plt.title('Top 20 Mean Countries with the Highest Food Wastage')\n",
    "\n",
    "# Show the plot\n",
    "plt.show()"
   ]
  },
  {
   "cell_type": "markdown",
   "metadata": {
    "id": "lDl4MrOqGHul"
   },
   "source": [
    "A heat map is used to depict variation in data using colours to indicate change. Here countries with highest food wastage is represented in the red colour, which is being changed constantly with changing data values to dark blue representing the least food wastage by a country.\n",
    "\n",
    " Australia and New Zealand represented by red colour are the table toppers with 42% mean loss in food. Whereas, Lao People's Democratic Republic represented by deep blue colour are the least with around 15% mean loss in food."
   ]
  },
  {
   "cell_type": "markdown",
   "metadata": {
    "id": "WdvMaL7_jFJL"
   },
   "source": [
    "#### 4. Food waste caused by Commodity\n",
    "\n",
    "In this case we will take the `commodity` and `loss_percentage`. With this two columns, we will get the mean loss percentage of each commodity.\n",
    "Here, we will take the mean of each commodity to represent the mean loss percentage of each commodity. With this we will get 130 rows but we want to see the top 10 commodities with the highest mean loss percentage. And there are some names in this commodity column which we don't want to show in the visualization. So we will rename them because they are not looking good in the visualization.\n",
    "Here we will sort this value from highest to lowest using `loss_percentage` and by using `ascending=False` and display the top 10.\n"
   ]
  },
  {
   "cell_type": "code",
   "execution_count": 12,
   "metadata": {
    "colab": {
     "base_uri": "https://localhost:8080/",
     "height": 354
    },
    "id": "DdtOZaIuq20V",
    "outputId": "93b74ba7-9cc0-4dea-8f8c-d5f26abae0c8"
   },
   "outputs": [
    {
     "data": {
      "text/html": [
       "<div>\n",
       "<style scoped>\n",
       "    .dataframe tbody tr th:only-of-type {\n",
       "        vertical-align: middle;\n",
       "    }\n",
       "\n",
       "    .dataframe tbody tr th {\n",
       "        vertical-align: top;\n",
       "    }\n",
       "\n",
       "    .dataframe thead th {\n",
       "        text-align: right;\n",
       "    }\n",
       "</style>\n",
       "<table border=\"1\" class=\"dataframe\">\n",
       "  <thead>\n",
       "    <tr style=\"text-align: right;\">\n",
       "      <th></th>\n",
       "      <th>loss_percentage</th>\n",
       "    </tr>\n",
       "    <tr>\n",
       "      <th>commodity</th>\n",
       "      <th></th>\n",
       "    </tr>\n",
       "  </thead>\n",
       "  <tbody>\n",
       "    <tr>\n",
       "      <th>Snails, except sea snails</th>\n",
       "      <td>50.000000</td>\n",
       "    </tr>\n",
       "    <tr>\n",
       "      <th>Grapefruit juice</th>\n",
       "      <td>44.999350</td>\n",
       "    </tr>\n",
       "    <tr>\n",
       "      <th>Orange juice</th>\n",
       "      <td>43.916843</td>\n",
       "    </tr>\n",
       "    <tr>\n",
       "      <th>Pineapple juice</th>\n",
       "      <td>41.333300</td>\n",
       "    </tr>\n",
       "    <tr>\n",
       "      <th>Pork with bones</th>\n",
       "      <td>40.910000</td>\n",
       "    </tr>\n",
       "    <tr>\n",
       "      <th>Canned mushrooms</th>\n",
       "      <td>35.000000</td>\n",
       "    </tr>\n",
       "    <tr>\n",
       "      <th>Plantains and cooking bananas</th>\n",
       "      <td>30.241667</td>\n",
       "    </tr>\n",
       "    <tr>\n",
       "      <th>Cocoa beans</th>\n",
       "      <td>30.000000</td>\n",
       "    </tr>\n",
       "    <tr>\n",
       "      <th>Broad beans and horse beans, green</th>\n",
       "      <td>30.000000</td>\n",
       "    </tr>\n",
       "    <tr>\n",
       "      <th>Sweet corn, frozen</th>\n",
       "      <td>28.500000</td>\n",
       "    </tr>\n",
       "  </tbody>\n",
       "</table>\n",
       "</div>"
      ],
      "text/plain": [
       "                                    loss_percentage\n",
       "commodity                                          \n",
       "Snails, except sea snails                 50.000000\n",
       "Grapefruit juice                          44.999350\n",
       "Orange juice                              43.916843\n",
       "Pineapple juice                           41.333300\n",
       "Pork with bones                           40.910000\n",
       "Canned mushrooms                          35.000000\n",
       "Plantains and cooking bananas             30.241667\n",
       "Cocoa beans                               30.000000\n",
       "Broad beans and horse beans, green        30.000000\n",
       "Sweet corn, frozen                        28.500000"
      ]
     },
     "execution_count": 12,
     "metadata": {},
     "output_type": "execute_result"
    }
   ],
   "source": [
    "commodity_loss=food_data[['commodity','loss_percentage']]\n",
    "mean_commodity_loss = commodity_loss.groupby(commodity_loss['commodity']).mean()\n",
    "mean_commodity_loss = mean_commodity_loss.rename(index={'Snails, fresh, chilled, frozen, dried, salted or in brine, except sea snails' : 'Snails, except sea snails'})\n",
    "mean_commodity_loss = mean_commodity_loss.rename(index={'Meat of pig with the bone, fresh or chilled' : 'Pork with bones'})\n",
    "sorted_commodity = mean_commodity_loss.sort_values(by='loss_percentage',ascending=False)\n",
    "sorted_commodity.head(10)"
   ]
  },
  {
   "cell_type": "markdown",
   "metadata": {
    "id": "AHI6MmgTl2nd"
   },
   "source": [
    "##### Visualization.\n",
    "\n",
    "This visualization shows the top 10 commodities with the highest mean loss percentage. We can see Snails, except sea snails has the highest mean loss percentage and Sweet corn, frozen has the lowest mean loss percentage."
   ]
  },
  {
   "cell_type": "code",
   "execution_count": 13,
   "metadata": {
    "colab": {
     "base_uri": "https://localhost:8080/",
     "height": 718
    },
    "id": "7sttseECsSHs",
    "outputId": "7ac3527a-0295-48ca-a25d-81f174b6d623"
   },
   "outputs": [
    {
     "data": {
      "image/png": "[encoded data removed]",
      "text/plain": [
       "<Figure size 864x576 with 1 Axes>"
      ]
     },
     "metadata": {
      "needs_background": "light"
     },
     "output_type": "display_data"
    }
   ],
   "source": [
    "# Stored the values in the dataframe\n",
    "top_commodities = sorted_commodity.head(10)\n",
    "\n",
    "# Created a horizontal bar chart\n",
    "plt.figure(figsize=(12, 8))\n",
    "plt.barh(top_commodities.index, top_commodities['loss_percentage'], color='red', alpha=0.5)\n",
    "\n",
    "plt.xlabel('Mean Loss Percentage')\n",
    "plt.ylabel('Commodity')\n",
    "plt.title('Top 10 Commodities with the Highest Mean Loss Percentage')\n",
    "\n",
    "# Add vertical grid lines\n",
    "plt.grid(axis='x', linestyle='--', alpha=0.5)\n",
    "\n",
    "# Invert the y-axis to have the highest value at the top\n",
    "plt.gca().invert_yaxis()\n",
    "\n",
    "# Show the plot\n",
    "plt.show()"
   ]
  },
  {
   "cell_type": "markdown",
   "metadata": {
    "id": "Ojp317N6MaeJ"
   },
   "source": [
    "For better understanding the \"Commodities with the Highest Mean Loss Percentage\" graph in the food waste study, this vertical axis aligned bar graph is especially helpful. It improves readability, is visually beautiful, and highlights significant regions of high food waste. It also allows for simple comparison of commodities with their mean loss percentages among them, gives a natural ranking with the greatest value at the top, and highlights these areas.\n",
    "\n",
    "The graph shows data on the commodities discarded according to their average percentage of waste. The y-axis displays the numerous commodities squandered, including snails, grapefruit juice, orange juice, pineapple juice, pork with bones, canned mushrooms, cocoa beans, sweet corn, and more. The x-axis shows the mean loss percentage, which ranges from 0 to 35. The pink-colored bars in the graph show the mean loss percentage for each stage.\n",
    "\n",
    "The chart shows that 'Snails, Except Sea Snails', with a value of around 35%+, are the commodities with the greatest mean loss percentage. 'Sweet corn, frozen' has the lowest mean loss percentage, which is close to 15%."
   ]
  },
  {
   "cell_type": "markdown",
   "metadata": {
    "id": "Zyp5Sfi6lgcW"
   },
   "source": [
    "In the dataset provided above, which appears to be related to food supply and loss percentages, several possible sources of bias can be identified. Bias in this context can affect the accuracy and representativeness of the data. Here are some potential sources of bias:\n",
    "\n",
    "###Sampling Bias:\n",
    "\n",
    "If the data collection process selectively sampled certain regions, populations, or time periods while excluding others, it could introduce bias. For example, if data collection was focused on specific geographic areas or specific years, it may not be representative of the entire country or time period.\n",
    "### Measurement Bias:\n",
    "\n",
    "Errors or inaccuracies in measuring and recording loss percentages can introduce bias. If measurement instruments were not consistently used or calibrated, or if there were variations in data collection methods, it could lead to biased results.\n",
    "### Response Bias:\n",
    "\n",
    "If the data relies on self-reporting or surveys, there may be a potential for response bias. Respondents might provide answers that they believe are socially desirable or that align with certain expectations, rather than reflecting the true values.\n",
    "### Activity Bias:\n",
    "\n",
    "The dataset includes a column called \"activity,\" which describes the activity related to food supply. If certain activities were overrepresented or underrepresented in the data, it could introduce bias. For example, if data collection focused more on \"Storage\" and less on other activities, it could skew the results.\n",
    "### Selection Bias:\n",
    "\n",
    "The dataset may not include all possible food supply stages, and certain stages may be omitted intentionally or unintentionally. This could lead to a biased representation of the stages' loss percentages.\n",
    "###Geographic Bias:\n",
    "\n",
    "If the dataset includes data from specific geographic regions within a country and those regions have different characteristics or conditions, it could introduce geographic bias. For example, if data is collected primarily from urban areas and not from rural areas, it may not represent the full diversity of food supply conditions.\n",
    "###Temporal Bias:\n",
    "\n",
    "If the data is collected primarily from certain years or seasons, it may not capture seasonal variations or long-term trends in loss percentages, introducing temporal bias.\n",
    "###Data Collection Bias:\n",
    "\n",
    "The dataset may be sourced from a specific study or organization with its own data collection procedures and biases. If the data collection process was not designed to be representative of the broader context, it can lead to bias.\n",
    "It's essential to be aware of these potential sources of bias when analyzing and interpreting the dataset. Addressing bias can involve careful data collection and cleaning, transparency about data sources and limitations, and statistical techniques to adjust for bias when possible."
   ]
  },
  {
   "cell_type": "markdown",
   "metadata": {
    "id": "MLteBDbScY9P"
   },
   "source": [
    "# Conclusion\n",
    "To conclude, the crucial problem of food loss and waste (FLW) inside the global food supply chain was the focus of our data analysis effort. To further understand this complex issue, we analyzed a large dataset from the Food and Agriculture Organization of the United Nations (FAO) covering the years 2012 to 2022. The following are the main conclusions and implications of our analysis:\n",
    "\n",
    "1. Food Waste by Stage:\n",
    "This analysis identifies the parts of the food supply chain where food waste is most likely to occur, offering useful information for resource allocation and focused actions.\n",
    "2. Food Waste by Year:\n",
    "This temporal study aids in locating trends and outliers in the evolution of food waste.\n",
    "3. Food Wastage by Country:\n",
    "By highlighting areas with high and low food wastage, a heat map showed the disparities in food waste by nation.\n",
    "4. Food Waste by Commodity:\n",
    "We discovered and provided the top 10 commodities with the highest mean loss percentages.\n",
    "\n",
    "In conclusion, our investigation revealed the crucial locations in the world's food supply chain where food waste occurs. Additionally, it emphasized how crucial it is to track changes in food waste over time and take appropriate action. These results can help decision-makers, stakeholders, and policymakers create focused initiatives to decrease food loss and waste, advance sustainability objectives, and support a more effective and equitable food system for all. Our data-driven strategy aims to enhance efforts to successfully combat food waste, which is a global crisis.\n"
   ]
  }
 ],
 "metadata": {
  "colab": {
   "provenance": []
  },
  "kernelspec": {
   "display_name": "Python 3 (ipykernel)",
   "language": "python",
   "name": "python3"
  },
  "language_info": {
   "codemirror_mode": {
    "name": "ipython",
    "version": 3
   },
   "file_extension": ".py",
   "mimetype": "text/x-python",
   "name": "python",
   "nbconvert_exporter": "python",
   "pygments_lexer": "ipython3",
   "version": "3.9.12"
  }
 },
 "nbformat": 4,
 "nbformat_minor": 1
}
